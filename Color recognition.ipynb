{
 "cells": [
  {
   "cell_type": "markdown",
   "metadata": {},
   "source": [
    "**Problem Statement :** The purpose of this project is to classify colors, there are 10 different images with 20 images for each colors in the train set and 5 images for each colors in the test set"
   ]
  },
  {
   "cell_type": "code",
   "execution_count": 1,
   "metadata": {},
   "outputs": [],
   "source": [
    "import os \n",
    "import pandas as pd\n",
    "import numpy as np \n",
    "import matplotlib.pyplot as plt \n",
    "import torch \n",
    "import torch.nn as nn\n",
    "import torch.nn.functional as F\n",
    "import torchvision\n",
    "import torchvision.transforms as transforms\n",
    "from torch.utils.data import DataLoader\n",
    "from  torchvision.datasets import ImageFolder"
   ]
  },
  {
   "cell_type": "markdown",
   "metadata": {},
   "source": [
    "Loading  the datasets "
   ]
  },
  {
   "cell_type": "code",
   "execution_count": 2,
   "metadata": {},
   "outputs": [],
   "source": [
    "compose = transforms.Compose([transforms.Resize((32, 32)), transforms.ToTensor() ])\n",
    "train = ImageFolder(root=r'C:\\Users\\jeremiah\\Desktop\\colors\\train', transform = compose)\n",
    "test = ImageFolder(root=r'C:\\Users\\jeremiah\\Desktop\\colors\\test', transform = compose)"
   ]
  },
  {
   "cell_type": "code",
   "execution_count": 3,
   "metadata": {},
   "outputs": [],
   "source": [
    "train_loader = DataLoader(train ,shuffle = True, batch_size = 50) \n",
    "test_loader = DataLoader(test ,shuffle = True, batch_size = 50) "
   ]
  },
  {
   "cell_type": "code",
   "execution_count": 4,
   "metadata": {},
   "outputs": [],
   "source": [
    "img_data, label = next(iter(train_loader))"
   ]
  },
  {
   "cell_type": "code",
   "execution_count": 5,
   "metadata": {},
   "outputs": [],
   "source": [
    "\n",
    "literal_label = os.listdir(r'C:\\Users\\jeremiah\\Desktop\\colors\\train')"
   ]
  },
  {
   "cell_type": "code",
   "execution_count": 6,
   "metadata": {},
   "outputs": [
    {
     "data": {
      "image/png": "[encoded data removed]",
      "text/plain": [
       "<Figure size 216x216 with 1 Axes>"
      ]
     },
     "metadata": {
      "needs_background": "light"
     },
     "output_type": "display_data"
    },
    {
     "data": {
      "image/png": "[encoded data removed]",
      "text/plain": [
       "<Figure size 432x288 with 1 Axes>"
      ]
     },
     "metadata": {
      "needs_background": "light"
     },
     "output_type": "display_data"
    },
    {
     "data": {
      "image/png": "[encoded data removed]",
      "text/plain": [
       "<Figure size 432x288 with 1 Axes>"
      ]
     },
     "metadata": {
      "needs_background": "light"
     },
     "output_type": "display_data"
    }
   ],
   "source": [
    "plt.figure(figsize=(3,3))\n",
    "for i in range(3): \n",
    "    plt.subplot(1,3,i+1)\n",
    "    plt.imshow(img_data[i].permute(1,2,0))\n",
    "    plt.title(literal_label[label[i]])\n",
    "    plt.show()"
   ]
  },
  {
   "cell_type": "markdown",
   "metadata": {},
   "source": [
    "Setting the hyper parameters"
   ]
  },
  {
   "cell_type": "code",
   "execution_count": 14,
   "metadata": {},
   "outputs": [],
   "source": [
    "epoch = 100\n",
    "learning_rate = 0.001"
   ]
  },
  {
   "cell_type": "code",
   "execution_count": 15,
   "metadata": {},
   "outputs": [],
   "source": [
    "\n",
    "class ImageClassificationModel(nn.Module):\n",
    "    def __init__(self):\n",
    "        super(ImageClassificationModel, self).__init__()\n",
    "        self.conv1 = nn.Conv2d(in_channels=3, out_channels=16, kernel_size=3, stride=1, padding=1)\n",
    "        self.relu = nn.ReLU()\n",
    "        self.conv2 = nn.Conv2d(16, 32, kernel_size=3, stride=1, padding=1)\n",
    "        self.pool = nn.MaxPool2d(2, 2)\n",
    "        self.conv3 = nn.Conv2d(32, 64, kernel_size=3, stride=1, padding=1)\n",
    "        self.fc1 = nn.Linear(64*4*4, 1024)\n",
    "        self.fc2 = nn.Linear(1024, 512)\n",
    "        self.fc3 = nn.Linear(512, 10)\n",
    "        \n",
    "    def forward(self, xb):\n",
    "        #input: 3 x 32 x 32\n",
    "        out = self.conv1(xb)\n",
    "        out = F.relu(out)\n",
    "        out = self.pool(out)\n",
    "        #output: 16 x 16 x 16\n",
    "        out = self.pool(F.relu(self.conv2(out)))\n",
    "#       #output: 32 x 8 x 8\n",
    "        out = self.pool(F.relu(self.conv3(out)))\n",
    "        #output: 64 x 4 x 4\n",
    "        out = out.view(-1, 64*4*4)\n",
    "        out = F.relu(self.fc1(out))\n",
    "        out = F.relu(self.fc2(out))\n",
    "        out = self.fc3(out)\n",
    "        return out\n",
    "    "
   ]
  },
  {
   "cell_type": "code",
   "execution_count": 20,
   "metadata": {},
   "outputs": [],
   "source": [
    "model = ImageClassificationModel()\n",
    "criterion = nn.CrossEntropyLoss()\n",
    "optimizer = torch.optim.Adam(model.parameters(), lr = learning_rate)\n",
    "errors = []"
   ]
  },
  {
   "cell_type": "code",
   "execution_count": 21,
   "metadata": {},
   "outputs": [],
   "source": [
    "def accuracy(outputs, labels):\n",
    "    _, preds = torch.max(outputs, dim=1)\n",
    "    return torch.tensor(torch.sum(preds == labels).item() / len(preds))"
   ]
  },
  {
   "cell_type": "code",
   "execution_count": 22,
   "metadata": {},
   "outputs": [
    {
     "name": "stdout",
     "output_type": "stream",
     "text": [
      "Epoch : 0 / Batch 0 : Loss : 2.306922435760498 and Accuracy 8.0%\n",
      "Epoch : 0 / Batch 1 : Loss : 2.297960042953491 and Accuracy 6.0%\n",
      "Epoch : 0 / Batch 2 : Loss : 2.312845468521118 and Accuracy 2.0%\n",
      "Epoch : 0 / Batch 3 : Loss : 2.259375810623169 and Accuracy 16.0%\n",
      "Epoch : 1 / Batch 0 : Loss : 2.2691054344177246 and Accuracy 12.0%\n",
      "Epoch : 1 / Batch 1 : Loss : 2.219604015350342 and Accuracy 18.0%\n",
      "Epoch : 1 / Batch 2 : Loss : 2.073908567428589 and Accuracy 34.0%\n",
      "Epoch : 1 / Batch 3 : Loss : 2.052565097808838 and Accuracy 24.0%\n",
      "Epoch : 2 / Batch 0 : Loss : 2.122995138168335 and Accuracy 18.0%\n",
      "Epoch : 2 / Batch 1 : Loss : 1.872749924659729 and Accuracy 28.0%\n",
      "Epoch : 2 / Batch 2 : Loss : 1.7590281963348389 and Accuracy 24.0%\n",
      "Epoch : 2 / Batch 3 : Loss : 1.8154189586639404 and Accuracy 40.0%\n",
      "Epoch : 3 / Batch 0 : Loss : 1.6570022106170654 and Accuracy 38.0%\n",
      "Epoch : 3 / Batch 1 : Loss : 1.4681822061538696 and Accuracy 42.0%\n",
      "Epoch : 3 / Batch 2 : Loss : 1.566595435142517 and Accuracy 36.0%\n",
      "Epoch : 3 / Batch 3 : Loss : 1.4322680234909058 and Accuracy 44.0%\n",
      "Epoch : 4 / Batch 0 : Loss : 1.3566946983337402 and Accuracy 56.0%\n",
      "Epoch : 4 / Batch 1 : Loss : 1.1285200119018555 and Accuracy 68.0%\n",
      "Epoch : 4 / Batch 2 : Loss : 1.2089251279830933 and Accuracy 56.0%\n",
      "Epoch : 4 / Batch 3 : Loss : 1.167677640914917 and Accuracy 50.0%\n",
      "Epoch : 5 / Batch 0 : Loss : 0.8377429246902466 and Accuracy 70.0%\n",
      "Epoch : 5 / Batch 1 : Loss : 1.2242176532745361 and Accuracy 40.0%\n",
      "Epoch : 5 / Batch 2 : Loss : 1.0817162990570068 and Accuracy 58.0%\n",
      "Epoch : 5 / Batch 3 : Loss : 1.0366398096084595 and Accuracy 66.0%\n",
      "Epoch : 6 / Batch 0 : Loss : 0.9683279395103455 and Accuracy 66.0%\n",
      "Epoch : 6 / Batch 1 : Loss : 0.860599160194397 and Accuracy 72.0%\n",
      "Epoch : 6 / Batch 2 : Loss : 0.7560902237892151 and Accuracy 82.0%\n",
      "Epoch : 6 / Batch 3 : Loss : 0.9750090837478638 and Accuracy 66.0%\n",
      "Epoch : 7 / Batch 0 : Loss : 0.9284291863441467 and Accuracy 68.0%\n",
      "Epoch : 7 / Batch 1 : Loss : 0.8208718299865723 and Accuracy 68.0%\n",
      "Epoch : 7 / Batch 2 : Loss : 0.8939722180366516 and Accuracy 60.000003814697266%\n",
      "Epoch : 7 / Batch 3 : Loss : 0.6182559728622437 and Accuracy 78.0%\n",
      "Epoch : 8 / Batch 0 : Loss : 0.7166174054145813 and Accuracy 70.0%\n",
      "Epoch : 8 / Batch 1 : Loss : 0.6106059551239014 and Accuracy 74.0%\n",
      "Epoch : 8 / Batch 2 : Loss : 0.6835138201713562 and Accuracy 72.0%\n",
      "Epoch : 8 / Batch 3 : Loss : 0.758065938949585 and Accuracy 70.0%\n",
      "Epoch : 9 / Batch 0 : Loss : 0.5635244250297546 and Accuracy 74.0%\n",
      "Epoch : 9 / Batch 1 : Loss : 0.6916470527648926 and Accuracy 74.0%\n",
      "Epoch : 9 / Batch 2 : Loss : 0.5633903741836548 and Accuracy 80.0%\n",
      "Epoch : 9 / Batch 3 : Loss : 0.575300931930542 and Accuracy 78.0%\n",
      "Epoch : 10 / Batch 0 : Loss : 0.30557116866111755 and Accuracy 90.0%\n",
      "Epoch : 10 / Batch 1 : Loss : 0.5051336884498596 and Accuracy 80.0%\n",
      "Epoch : 10 / Batch 2 : Loss : 1.0867596864700317 and Accuracy 64.0%\n",
      "Epoch : 10 / Batch 3 : Loss : 0.6812348961830139 and Accuracy 76.0%\n",
      "Epoch : 11 / Batch 0 : Loss : 0.5714786648750305 and Accuracy 76.0%\n",
      "Epoch : 11 / Batch 1 : Loss : 0.8874530792236328 and Accuracy 66.0%\n",
      "Epoch : 11 / Batch 2 : Loss : 0.48393726348876953 and Accuracy 80.0%\n",
      "Epoch : 11 / Batch 3 : Loss : 0.7000665068626404 and Accuracy 74.0%\n",
      "Epoch : 12 / Batch 0 : Loss : 0.6033923625946045 and Accuracy 72.0%\n",
      "Epoch : 12 / Batch 1 : Loss : 0.5955525040626526 and Accuracy 74.0%\n",
      "Epoch : 12 / Batch 2 : Loss : 0.42583930492401123 and Accuracy 82.0%\n",
      "Epoch : 12 / Batch 3 : Loss : 0.6573012471199036 and Accuracy 78.0%\n",
      "Epoch : 13 / Batch 0 : Loss : 0.7132692933082581 and Accuracy 70.0%\n",
      "Epoch : 13 / Batch 1 : Loss : 0.3953879177570343 and Accuracy 86.0%\n",
      "Epoch : 13 / Batch 2 : Loss : 0.8601490259170532 and Accuracy 74.0%\n",
      "Epoch : 13 / Batch 3 : Loss : 0.5865541696548462 and Accuracy 78.0%\n",
      "Epoch : 14 / Batch 0 : Loss : 0.5202768445014954 and Accuracy 74.0%\n",
      "Epoch : 14 / Batch 1 : Loss : 0.4767659306526184 and Accuracy 82.0%\n",
      "Epoch : 14 / Batch 2 : Loss : 0.4652588963508606 and Accuracy 88.0%\n",
      "Epoch : 14 / Batch 3 : Loss : 0.6064866781234741 and Accuracy 80.0%\n",
      "Epoch : 15 / Batch 0 : Loss : 0.43148916959762573 and Accuracy 88.0%\n",
      "Epoch : 15 / Batch 1 : Loss : 0.5414184927940369 and Accuracy 76.0%\n",
      "Epoch : 15 / Batch 2 : Loss : 0.3615844249725342 and Accuracy 86.0%\n",
      "Epoch : 15 / Batch 3 : Loss : 0.5213284492492676 and Accuracy 82.0%\n",
      "Epoch : 16 / Batch 0 : Loss : 0.5393239855766296 and Accuracy 82.0%\n",
      "Epoch : 16 / Batch 1 : Loss : 0.41954463720321655 and Accuracy 82.0%\n",
      "Epoch : 16 / Batch 2 : Loss : 0.2502899467945099 and Accuracy 96.0%\n",
      "Epoch : 16 / Batch 3 : Loss : 0.3308641314506531 and Accuracy 88.0%\n",
      "Epoch : 17 / Batch 0 : Loss : 0.35558605194091797 and Accuracy 86.0%\n",
      "Epoch : 17 / Batch 1 : Loss : 0.48144444823265076 and Accuracy 80.0%\n",
      "Epoch : 17 / Batch 2 : Loss : 0.4272497594356537 and Accuracy 82.0%\n",
      "Epoch : 17 / Batch 3 : Loss : 0.28362447023391724 and Accuracy 90.0%\n",
      "Epoch : 18 / Batch 0 : Loss : 0.2852117717266083 and Accuracy 90.0%\n",
      "Epoch : 18 / Batch 1 : Loss : 0.37729907035827637 and Accuracy 84.0%\n",
      "Epoch : 18 / Batch 2 : Loss : 0.23462262749671936 and Accuracy 92.0%\n",
      "Epoch : 18 / Batch 3 : Loss : 0.5617761015892029 and Accuracy 80.0%\n",
      "Epoch : 19 / Batch 0 : Loss : 0.3215884864330292 and Accuracy 94.0%\n",
      "Epoch : 19 / Batch 1 : Loss : 0.3437056839466095 and Accuracy 88.0%\n",
      "Epoch : 19 / Batch 2 : Loss : 0.4723120927810669 and Accuracy 82.0%\n",
      "Epoch : 19 / Batch 3 : Loss : 0.24512678384780884 and Accuracy 94.0%\n",
      "Epoch : 20 / Batch 0 : Loss : 0.22133250534534454 and Accuracy 94.0%\n",
      "Epoch : 20 / Batch 1 : Loss : 0.3791762590408325 and Accuracy 84.0%\n",
      "Epoch : 20 / Batch 2 : Loss : 0.20858295261859894 and Accuracy 94.0%\n",
      "Epoch : 20 / Batch 3 : Loss : 0.2911441922187805 and Accuracy 86.0%\n",
      "Epoch : 21 / Batch 0 : Loss : 0.23949868977069855 and Accuracy 94.0%\n",
      "Epoch : 21 / Batch 1 : Loss : 0.14726822078227997 and Accuracy 92.0%\n",
      "Epoch : 21 / Batch 2 : Loss : 0.3388385474681854 and Accuracy 90.0%\n",
      "Epoch : 21 / Batch 3 : Loss : 0.44644394516944885 and Accuracy 82.0%\n",
      "Epoch : 22 / Batch 0 : Loss : 0.3370025157928467 and Accuracy 86.0%\n",
      "Epoch : 22 / Batch 1 : Loss : 0.3024103045463562 and Accuracy 92.0%\n",
      "Epoch : 22 / Batch 2 : Loss : 0.24958842992782593 and Accuracy 90.0%\n",
      "Epoch : 22 / Batch 3 : Loss : 0.17351558804512024 and Accuracy 94.0%\n",
      "Epoch : 23 / Batch 0 : Loss : 0.27052733302116394 and Accuracy 90.0%\n",
      "Epoch : 23 / Batch 1 : Loss : 0.2752467095851898 and Accuracy 86.0%\n",
      "Epoch : 23 / Batch 2 : Loss : 0.12216372787952423 and Accuracy 98.0%\n",
      "Epoch : 23 / Batch 3 : Loss : 0.7525015473365784 and Accuracy 70.0%\n",
      "Epoch : 24 / Batch 0 : Loss : 0.2806442677974701 and Accuracy 92.0%\n",
      "Epoch : 24 / Batch 1 : Loss : 0.251275897026062 and Accuracy 90.0%\n",
      "Epoch : 24 / Batch 2 : Loss : 0.1792384684085846 and Accuracy 96.0%\n",
      "Epoch : 24 / Batch 3 : Loss : 0.345659077167511 and Accuracy 90.0%\n",
      "Epoch : 25 / Batch 0 : Loss : 0.2624523639678955 and Accuracy 90.0%\n",
      "Epoch : 25 / Batch 1 : Loss : 0.16773469746112823 and Accuracy 90.0%\n",
      "Epoch : 25 / Batch 2 : Loss : 0.17672838270664215 and Accuracy 96.0%\n",
      "Epoch : 25 / Batch 3 : Loss : 0.15016742050647736 and Accuracy 92.0%\n",
      "Epoch : 26 / Batch 0 : Loss : 0.3303722143173218 and Accuracy 86.0%\n",
      "Epoch : 26 / Batch 1 : Loss : 0.13361500203609467 and Accuracy 96.0%\n",
      "Epoch : 26 / Batch 2 : Loss : 0.1344907283782959 and Accuracy 94.0%\n",
      "Epoch : 26 / Batch 3 : Loss : 0.21599240601062775 and Accuracy 88.0%\n",
      "Epoch : 27 / Batch 0 : Loss : 0.16346101462841034 and Accuracy 94.0%\n",
      "Epoch : 27 / Batch 1 : Loss : 0.15104742348194122 and Accuracy 94.0%\n",
      "Epoch : 27 / Batch 2 : Loss : 0.11430028825998306 and Accuracy 94.0%\n",
      "Epoch : 27 / Batch 3 : Loss : 0.2452808916568756 and Accuracy 90.0%\n",
      "Epoch : 28 / Batch 0 : Loss : 0.13035926222801208 and Accuracy 96.0%\n",
      "Epoch : 28 / Batch 1 : Loss : 0.09900540113449097 and Accuracy 96.0%\n",
      "Epoch : 28 / Batch 2 : Loss : 0.13349832594394684 and Accuracy 96.0%\n",
      "Epoch : 28 / Batch 3 : Loss : 0.14941903948783875 and Accuracy 96.0%\n",
      "Epoch : 29 / Batch 0 : Loss : 0.1461511105298996 and Accuracy 94.0%\n",
      "Epoch : 29 / Batch 1 : Loss : 0.180326446890831 and Accuracy 90.0%\n",
      "Epoch : 29 / Batch 2 : Loss : 0.13424183428287506 and Accuracy 96.0%\n",
      "Epoch : 29 / Batch 3 : Loss : 0.18016494810581207 and Accuracy 92.0%\n",
      "Epoch : 30 / Batch 0 : Loss : 0.09695059061050415 and Accuracy 96.0%\n"
     ]
    },
    {
     "name": "stdout",
     "output_type": "stream",
     "text": [
      "Epoch : 30 / Batch 1 : Loss : 0.1335277259349823 and Accuracy 92.0%\n",
      "Epoch : 30 / Batch 2 : Loss : 0.07116787135601044 and Accuracy 96.0%\n",
      "Epoch : 30 / Batch 3 : Loss : 0.10913529992103577 and Accuracy 94.0%\n",
      "Epoch : 31 / Batch 0 : Loss : 0.0537610799074173 and Accuracy 100.0%\n",
      "Epoch : 31 / Batch 1 : Loss : 0.2663397490978241 and Accuracy 86.0%\n",
      "Epoch : 31 / Batch 2 : Loss : 0.27174654603004456 and Accuracy 88.0%\n",
      "Epoch : 31 / Batch 3 : Loss : 0.07667384296655655 and Accuracy 98.0%\n",
      "Epoch : 32 / Batch 0 : Loss : 0.2522253394126892 and Accuracy 92.0%\n",
      "Epoch : 32 / Batch 1 : Loss : 0.0746789202094078 and Accuracy 100.0%\n",
      "Epoch : 32 / Batch 2 : Loss : 0.054741859436035156 and Accuracy 100.0%\n",
      "Epoch : 32 / Batch 3 : Loss : 0.17266084253787994 and Accuracy 94.0%\n",
      "Epoch : 33 / Batch 0 : Loss : 0.11696921288967133 and Accuracy 94.0%\n",
      "Epoch : 33 / Batch 1 : Loss : 0.2011350840330124 and Accuracy 94.0%\n",
      "Epoch : 33 / Batch 2 : Loss : 0.10858318954706192 and Accuracy 96.0%\n",
      "Epoch : 33 / Batch 3 : Loss : 0.03566567599773407 and Accuracy 98.0%\n",
      "Epoch : 34 / Batch 0 : Loss : 0.12882402539253235 and Accuracy 96.0%\n",
      "Epoch : 34 / Batch 1 : Loss : 0.14568981528282166 and Accuracy 94.0%\n",
      "Epoch : 34 / Batch 2 : Loss : 0.16305039823055267 and Accuracy 94.0%\n",
      "Epoch : 34 / Batch 3 : Loss : 0.2084023505449295 and Accuracy 94.0%\n",
      "Epoch : 35 / Batch 0 : Loss : 0.12298495322465897 and Accuracy 96.0%\n",
      "Epoch : 35 / Batch 1 : Loss : 0.08796562999486923 and Accuracy 98.0%\n",
      "Epoch : 35 / Batch 2 : Loss : 0.13251252472400665 and Accuracy 94.0%\n",
      "Epoch : 35 / Batch 3 : Loss : 0.21586552262306213 and Accuracy 86.0%\n",
      "Epoch : 36 / Batch 0 : Loss : 0.16238254308700562 and Accuracy 90.0%\n",
      "Epoch : 36 / Batch 1 : Loss : 0.19923478364944458 and Accuracy 94.0%\n",
      "Epoch : 36 / Batch 2 : Loss : 0.2387395054101944 and Accuracy 94.0%\n",
      "Epoch : 36 / Batch 3 : Loss : 0.057341307401657104 and Accuracy 98.0%\n",
      "Epoch : 37 / Batch 0 : Loss : 0.06229989975690842 and Accuracy 98.0%\n",
      "Epoch : 37 / Batch 1 : Loss : 0.06445856392383575 and Accuracy 98.0%\n",
      "Epoch : 37 / Batch 2 : Loss : 0.1769106239080429 and Accuracy 92.0%\n",
      "Epoch : 37 / Batch 3 : Loss : 0.3051833212375641 and Accuracy 94.0%\n",
      "Epoch : 38 / Batch 0 : Loss : 0.13692915439605713 and Accuracy 92.0%\n",
      "Epoch : 38 / Batch 1 : Loss : 0.22408613562583923 and Accuracy 90.0%\n",
      "Epoch : 38 / Batch 2 : Loss : 0.19713740050792694 and Accuracy 88.0%\n",
      "Epoch : 38 / Batch 3 : Loss : 0.2506069839000702 and Accuracy 90.0%\n",
      "Epoch : 39 / Batch 0 : Loss : 0.10563161969184875 and Accuracy 98.0%\n",
      "Epoch : 39 / Batch 1 : Loss : 0.06402042508125305 and Accuracy 96.0%\n",
      "Epoch : 39 / Batch 2 : Loss : 0.16002216935157776 and Accuracy 92.0%\n",
      "Epoch : 39 / Batch 3 : Loss : 0.5015271902084351 and Accuracy 84.0%\n",
      "Epoch : 40 / Batch 0 : Loss : 0.238310769200325 and Accuracy 92.0%\n",
      "Epoch : 40 / Batch 1 : Loss : 0.22870996594429016 and Accuracy 92.0%\n",
      "Epoch : 40 / Batch 2 : Loss : 0.1500326246023178 and Accuracy 92.0%\n",
      "Epoch : 40 / Batch 3 : Loss : 0.2091011255979538 and Accuracy 92.0%\n",
      "Epoch : 41 / Batch 0 : Loss : 0.25854209065437317 and Accuracy 88.0%\n",
      "Epoch : 41 / Batch 1 : Loss : 0.1749366968870163 and Accuracy 90.0%\n",
      "Epoch : 41 / Batch 2 : Loss : 0.11106464266777039 and Accuracy 94.0%\n",
      "Epoch : 41 / Batch 3 : Loss : 0.17541499435901642 and Accuracy 98.0%\n",
      "Epoch : 42 / Batch 0 : Loss : 0.30172890424728394 and Accuracy 94.0%\n",
      "Epoch : 42 / Batch 1 : Loss : 0.020960606634616852 and Accuracy 100.0%\n",
      "Epoch : 42 / Batch 2 : Loss : 0.13814879953861237 and Accuracy 96.0%\n",
      "Epoch : 42 / Batch 3 : Loss : 0.2827898859977722 and Accuracy 90.0%\n",
      "Epoch : 43 / Batch 0 : Loss : 0.10119502246379852 and Accuracy 96.0%\n",
      "Epoch : 43 / Batch 1 : Loss : 0.08294890075922012 and Accuracy 94.0%\n",
      "Epoch : 43 / Batch 2 : Loss : 0.0501776747405529 and Accuracy 98.0%\n",
      "Epoch : 43 / Batch 3 : Loss : 0.08465442806482315 and Accuracy 96.0%\n",
      "Epoch : 44 / Batch 0 : Loss : 0.08852662891149521 and Accuracy 96.0%\n",
      "Epoch : 44 / Batch 1 : Loss : 0.038196414709091187 and Accuracy 98.0%\n",
      "Epoch : 44 / Batch 2 : Loss : 0.08150722831487656 and Accuracy 96.0%\n",
      "Epoch : 44 / Batch 3 : Loss : 0.2887520492076874 and Accuracy 90.0%\n",
      "Epoch : 45 / Batch 0 : Loss : 0.14769954979419708 and Accuracy 94.0%\n",
      "Epoch : 45 / Batch 1 : Loss : 0.07972060889005661 and Accuracy 96.0%\n",
      "Epoch : 45 / Batch 2 : Loss : 0.06988877058029175 and Accuracy 98.0%\n",
      "Epoch : 45 / Batch 3 : Loss : 0.05226995050907135 and Accuracy 100.0%\n",
      "Epoch : 46 / Batch 0 : Loss : 0.04383445158600807 and Accuracy 100.0%\n",
      "Epoch : 46 / Batch 1 : Loss : 0.05423438549041748 and Accuracy 98.0%\n",
      "Epoch : 46 / Batch 2 : Loss : 0.07760170847177505 and Accuracy 96.0%\n",
      "Epoch : 46 / Batch 3 : Loss : 0.14857621490955353 and Accuracy 94.0%\n",
      "Epoch : 47 / Batch 0 : Loss : 0.07234694808721542 and Accuracy 96.0%\n",
      "Epoch : 47 / Batch 1 : Loss : 0.045884374529123306 and Accuracy 100.0%\n",
      "Epoch : 47 / Batch 2 : Loss : 0.055504512041807175 and Accuracy 98.0%\n",
      "Epoch : 47 / Batch 3 : Loss : 0.06047757714986801 and Accuracy 98.0%\n",
      "Epoch : 48 / Batch 0 : Loss : 0.06243375316262245 and Accuracy 96.0%\n",
      "Epoch : 48 / Batch 1 : Loss : 0.13257616758346558 and Accuracy 94.0%\n",
      "Epoch : 48 / Batch 2 : Loss : 0.09095150232315063 and Accuracy 98.0%\n",
      "Epoch : 48 / Batch 3 : Loss : 0.02409721538424492 and Accuracy 100.0%\n",
      "Epoch : 49 / Batch 0 : Loss : 0.03298582136631012 and Accuracy 98.0%\n",
      "Epoch : 49 / Batch 1 : Loss : 0.06040750816464424 and Accuracy 98.0%\n",
      "Epoch : 49 / Batch 2 : Loss : 0.028933387249708176 and Accuracy 100.0%\n",
      "Epoch : 49 / Batch 3 : Loss : 0.012678119353950024 and Accuracy 100.0%\n",
      "Epoch : 50 / Batch 0 : Loss : 0.0100072231143713 and Accuracy 100.0%\n",
      "Epoch : 50 / Batch 1 : Loss : 0.08112302422523499 and Accuracy 96.0%\n",
      "Epoch : 50 / Batch 2 : Loss : 0.03553248941898346 and Accuracy 98.0%\n",
      "Epoch : 50 / Batch 3 : Loss : 0.04889662191271782 and Accuracy 100.0%\n",
      "Epoch : 51 / Batch 0 : Loss : 0.06057625263929367 and Accuracy 98.0%\n",
      "Epoch : 51 / Batch 1 : Loss : 0.012228813022375107 and Accuracy 100.0%\n",
      "Epoch : 51 / Batch 2 : Loss : 0.042113013565540314 and Accuracy 98.0%\n",
      "Epoch : 51 / Batch 3 : Loss : 0.09545677900314331 and Accuracy 98.0%\n",
      "Epoch : 52 / Batch 0 : Loss : 0.028688302263617516 and Accuracy 100.0%\n",
      "Epoch : 52 / Batch 1 : Loss : 0.019629068672657013 and Accuracy 100.0%\n",
      "Epoch : 52 / Batch 2 : Loss : 0.044339850544929504 and Accuracy 98.0%\n",
      "Epoch : 52 / Batch 3 : Loss : 0.1453893780708313 and Accuracy 92.0%\n",
      "Epoch : 53 / Batch 0 : Loss : 0.004818124696612358 and Accuracy 100.0%\n",
      "Epoch : 53 / Batch 1 : Loss : 0.2638446092605591 and Accuracy 92.0%\n",
      "Epoch : 53 / Batch 2 : Loss : 0.011916602961719036 and Accuracy 100.0%\n",
      "Epoch : 53 / Batch 3 : Loss : 0.23230935633182526 and Accuracy 96.0%\n",
      "Epoch : 54 / Batch 0 : Loss : 0.016422700136899948 and Accuracy 100.0%\n",
      "Epoch : 54 / Batch 1 : Loss : 0.1321343332529068 and Accuracy 90.0%\n",
      "Epoch : 54 / Batch 2 : Loss : 0.054957590997219086 and Accuracy 96.0%\n",
      "Epoch : 54 / Batch 3 : Loss : 0.08431842178106308 and Accuracy 98.0%\n",
      "Epoch : 55 / Batch 0 : Loss : 0.3542366325855255 and Accuracy 90.0%\n",
      "Epoch : 55 / Batch 1 : Loss : 0.022292830049991608 and Accuracy 100.0%\n",
      "Epoch : 55 / Batch 2 : Loss : 0.15812359750270844 and Accuracy 94.0%\n",
      "Epoch : 55 / Batch 3 : Loss : 0.008969184942543507 and Accuracy 100.0%\n",
      "Epoch : 56 / Batch 0 : Loss : 0.17594365775585175 and Accuracy 92.0%\n",
      "Epoch : 56 / Batch 1 : Loss : 0.2868175804615021 and Accuracy 90.0%\n",
      "Epoch : 56 / Batch 2 : Loss : 0.02652028761804104 and Accuracy 98.0%\n",
      "Epoch : 56 / Batch 3 : Loss : 0.08397834748029709 and Accuracy 96.0%\n",
      "Epoch : 57 / Batch 0 : Loss : 0.03448711335659027 and Accuracy 100.0%\n",
      "Epoch : 57 / Batch 1 : Loss : 0.12345533072948456 and Accuracy 96.0%\n",
      "Epoch : 57 / Batch 2 : Loss : 0.05807233229279518 and Accuracy 100.0%\n",
      "Epoch : 57 / Batch 3 : Loss : 0.13340240716934204 and Accuracy 92.0%\n",
      "Epoch : 58 / Batch 0 : Loss : 0.07951030135154724 and Accuracy 96.0%\n",
      "Epoch : 58 / Batch 1 : Loss : 0.09543929994106293 and Accuracy 94.0%\n",
      "Epoch : 58 / Batch 2 : Loss : 0.048997774720191956 and Accuracy 100.0%\n",
      "Epoch : 58 / Batch 3 : Loss : 0.07530998438596725 and Accuracy 96.0%\n",
      "Epoch : 59 / Batch 0 : Loss : 0.07516645640134811 and Accuracy 96.0%\n",
      "Epoch : 59 / Batch 1 : Loss : 0.14824829995632172 and Accuracy 92.0%\n",
      "Epoch : 59 / Batch 2 : Loss : 0.07133989036083221 and Accuracy 96.0%\n",
      "Epoch : 59 / Batch 3 : Loss : 0.03358839452266693 and Accuracy 100.0%\n"
     ]
    },
    {
     "name": "stdout",
     "output_type": "stream",
     "text": [
      "Epoch : 60 / Batch 0 : Loss : 0.0701017826795578 and Accuracy 98.0%\n",
      "Epoch : 60 / Batch 1 : Loss : 0.08823530375957489 and Accuracy 94.0%\n",
      "Epoch : 60 / Batch 2 : Loss : 0.07574525475502014 and Accuracy 98.0%\n",
      "Epoch : 60 / Batch 3 : Loss : 0.023758621886372566 and Accuracy 100.0%\n",
      "Epoch : 61 / Batch 0 : Loss : 0.019988704472780228 and Accuracy 100.0%\n",
      "Epoch : 61 / Batch 1 : Loss : 0.09724585711956024 and Accuracy 96.0%\n",
      "Epoch : 61 / Batch 2 : Loss : 0.045560069382190704 and Accuracy 96.0%\n",
      "Epoch : 61 / Batch 3 : Loss : 0.030297856777906418 and Accuracy 100.0%\n",
      "Epoch : 62 / Batch 0 : Loss : 0.03325113281607628 and Accuracy 100.0%\n",
      "Epoch : 62 / Batch 1 : Loss : 0.07806474715471268 and Accuracy 96.0%\n",
      "Epoch : 62 / Batch 2 : Loss : 0.04040052369236946 and Accuracy 98.0%\n",
      "Epoch : 62 / Batch 3 : Loss : 0.023660019040107727 and Accuracy 100.0%\n",
      "Epoch : 63 / Batch 0 : Loss : 0.03705710917711258 and Accuracy 98.0%\n",
      "Epoch : 63 / Batch 1 : Loss : 0.02330850623548031 and Accuracy 98.0%\n",
      "Epoch : 63 / Batch 2 : Loss : 0.026487233117222786 and Accuracy 98.0%\n",
      "Epoch : 63 / Batch 3 : Loss : 0.07217563688755035 and Accuracy 96.0%\n",
      "Epoch : 64 / Batch 0 : Loss : 0.04141518473625183 and Accuracy 100.0%\n",
      "Epoch : 64 / Batch 1 : Loss : 0.003970286343246698 and Accuracy 100.0%\n",
      "Epoch : 64 / Batch 2 : Loss : 0.00900984089821577 and Accuracy 100.0%\n",
      "Epoch : 64 / Batch 3 : Loss : 0.09427332133054733 and Accuracy 92.0%\n",
      "Epoch : 65 / Batch 0 : Loss : 0.04118221253156662 and Accuracy 98.0%\n",
      "Epoch : 65 / Batch 1 : Loss : 0.013609073124825954 and Accuracy 100.0%\n",
      "Epoch : 65 / Batch 2 : Loss : 0.15438462793827057 and Accuracy 94.0%\n",
      "Epoch : 65 / Batch 3 : Loss : 0.003890407271683216 and Accuracy 100.0%\n",
      "Epoch : 66 / Batch 0 : Loss : 0.006366467569023371 and Accuracy 100.0%\n",
      "Epoch : 66 / Batch 1 : Loss : 0.020375382155179977 and Accuracy 98.0%\n",
      "Epoch : 66 / Batch 2 : Loss : 0.040125325322151184 and Accuracy 98.0%\n",
      "Epoch : 66 / Batch 3 : Loss : 0.064201720058918 and Accuracy 98.0%\n",
      "Epoch : 67 / Batch 0 : Loss : 0.022429106757044792 and Accuracy 100.0%\n",
      "Epoch : 67 / Batch 1 : Loss : 0.06965367496013641 and Accuracy 96.0%\n",
      "Epoch : 67 / Batch 2 : Loss : 0.020923279225826263 and Accuracy 100.0%\n",
      "Epoch : 67 / Batch 3 : Loss : 0.011840845458209515 and Accuracy 100.0%\n",
      "Epoch : 68 / Batch 0 : Loss : 0.04184645041823387 and Accuracy 98.0%\n",
      "Epoch : 68 / Batch 1 : Loss : 0.06261822581291199 and Accuracy 96.0%\n",
      "Epoch : 68 / Batch 2 : Loss : 0.027538245543837547 and Accuracy 98.0%\n",
      "Epoch : 68 / Batch 3 : Loss : 0.03746380656957626 and Accuracy 98.0%\n",
      "Epoch : 69 / Batch 0 : Loss : 0.02825571969151497 and Accuracy 100.0%\n",
      "Epoch : 69 / Batch 1 : Loss : 0.01803080178797245 and Accuracy 100.0%\n",
      "Epoch : 69 / Batch 2 : Loss : 0.0053797573782503605 and Accuracy 100.0%\n",
      "Epoch : 69 / Batch 3 : Loss : 0.07430526614189148 and Accuracy 96.0%\n",
      "Epoch : 70 / Batch 0 : Loss : 0.06484755128622055 and Accuracy 98.0%\n",
      "Epoch : 70 / Batch 1 : Loss : 0.003580919001251459 and Accuracy 100.0%\n",
      "Epoch : 70 / Batch 2 : Loss : 0.063668392598629 and Accuracy 98.0%\n",
      "Epoch : 70 / Batch 3 : Loss : 0.30415433645248413 and Accuracy 92.0%\n",
      "Epoch : 71 / Batch 0 : Loss : 0.0028889914974570274 and Accuracy 100.0%\n",
      "Epoch : 71 / Batch 1 : Loss : 0.05993839353322983 and Accuracy 98.0%\n",
      "Epoch : 71 / Batch 2 : Loss : 0.03130992874503136 and Accuracy 100.0%\n",
      "Epoch : 71 / Batch 3 : Loss : 0.06180967763066292 and Accuracy 96.0%\n",
      "Epoch : 72 / Batch 0 : Loss : 0.028074879199266434 and Accuracy 100.0%\n",
      "Epoch : 72 / Batch 1 : Loss : 0.0483400858938694 and Accuracy 96.0%\n",
      "Epoch : 72 / Batch 2 : Loss : 0.04408375173807144 and Accuracy 98.0%\n",
      "Epoch : 72 / Batch 3 : Loss : 0.06931290775537491 and Accuracy 96.0%\n",
      "Epoch : 73 / Batch 0 : Loss : 0.008528976701200008 and Accuracy 100.0%\n",
      "Epoch : 73 / Batch 1 : Loss : 0.10499030351638794 and Accuracy 98.0%\n",
      "Epoch : 73 / Batch 2 : Loss : 0.19826318323612213 and Accuracy 94.0%\n",
      "Epoch : 73 / Batch 3 : Loss : 0.06558933109045029 and Accuracy 96.0%\n",
      "Epoch : 74 / Batch 0 : Loss : 0.007671626750379801 and Accuracy 100.0%\n",
      "Epoch : 74 / Batch 1 : Loss : 0.042663250118494034 and Accuracy 98.0%\n",
      "Epoch : 74 / Batch 2 : Loss : 0.015249550342559814 and Accuracy 100.0%\n",
      "Epoch : 74 / Batch 3 : Loss : 0.17663314938545227 and Accuracy 90.0%\n",
      "Epoch : 75 / Batch 0 : Loss : 0.022707317024469376 and Accuracy 100.0%\n",
      "Epoch : 75 / Batch 1 : Loss : 0.030588772147893906 and Accuracy 98.0%\n",
      "Epoch : 75 / Batch 2 : Loss : 0.03757457807660103 and Accuracy 98.0%\n",
      "Epoch : 75 / Batch 3 : Loss : 0.05173375457525253 and Accuracy 98.0%\n",
      "Epoch : 76 / Batch 0 : Loss : 0.07239444553852081 and Accuracy 96.0%\n",
      "Epoch : 76 / Batch 1 : Loss : 0.08563663810491562 and Accuracy 96.0%\n",
      "Epoch : 76 / Batch 2 : Loss : 0.07874252647161484 and Accuracy 96.0%\n",
      "Epoch : 76 / Batch 3 : Loss : 0.039847489446401596 and Accuracy 98.0%\n",
      "Epoch : 77 / Batch 0 : Loss : 0.023973923176527023 and Accuracy 100.0%\n",
      "Epoch : 77 / Batch 1 : Loss : 0.04991880804300308 and Accuracy 98.0%\n",
      "Epoch : 77 / Batch 2 : Loss : 0.2399216592311859 and Accuracy 92.0%\n",
      "Epoch : 77 / Batch 3 : Loss : 0.008138306438922882 and Accuracy 100.0%\n",
      "Epoch : 78 / Batch 0 : Loss : 0.028350330889225006 and Accuracy 100.0%\n",
      "Epoch : 78 / Batch 1 : Loss : 0.03843015059828758 and Accuracy 100.0%\n",
      "Epoch : 78 / Batch 2 : Loss : 0.03856819495558739 and Accuracy 98.0%\n",
      "Epoch : 78 / Batch 3 : Loss : 0.08992913365364075 and Accuracy 98.0%\n",
      "Epoch : 79 / Batch 0 : Loss : 0.07341724634170532 and Accuracy 96.0%\n",
      "Epoch : 79 / Batch 1 : Loss : 0.009251081384718418 and Accuracy 100.0%\n",
      "Epoch : 79 / Batch 2 : Loss : 0.04326819255948067 and Accuracy 100.0%\n",
      "Epoch : 79 / Batch 3 : Loss : 0.08171484619379044 and Accuracy 94.0%\n",
      "Epoch : 80 / Batch 0 : Loss : 0.03229256719350815 and Accuracy 100.0%\n",
      "Epoch : 80 / Batch 1 : Loss : 0.060545023530721664 and Accuracy 98.0%\n",
      "Epoch : 80 / Batch 2 : Loss : 0.021563410758972168 and Accuracy 100.0%\n",
      "Epoch : 80 / Batch 3 : Loss : 0.009579116478562355 and Accuracy 100.0%\n",
      "Epoch : 81 / Batch 0 : Loss : 0.0439416728913784 and Accuracy 98.0%\n",
      "Epoch : 81 / Batch 1 : Loss : 0.0023564312141388655 and Accuracy 100.0%\n",
      "Epoch : 81 / Batch 2 : Loss : 0.06182415410876274 and Accuracy 98.0%\n",
      "Epoch : 81 / Batch 3 : Loss : 0.07464026659727097 and Accuracy 94.0%\n",
      "Epoch : 82 / Batch 0 : Loss : 0.022018084302544594 and Accuracy 100.0%\n",
      "Epoch : 82 / Batch 1 : Loss : 0.0661882609128952 and Accuracy 98.0%\n",
      "Epoch : 82 / Batch 2 : Loss : 0.037684641778469086 and Accuracy 98.0%\n",
      "Epoch : 82 / Batch 3 : Loss : 0.020527824759483337 and Accuracy 100.0%\n",
      "Epoch : 83 / Batch 0 : Loss : 0.02401277795433998 and Accuracy 100.0%\n",
      "Epoch : 83 / Batch 1 : Loss : 0.04648277163505554 and Accuracy 98.0%\n",
      "Epoch : 83 / Batch 2 : Loss : 0.02142644114792347 and Accuracy 100.0%\n",
      "Epoch : 83 / Batch 3 : Loss : 0.026113366708159447 and Accuracy 98.0%\n",
      "Epoch : 84 / Batch 0 : Loss : 0.01590174250304699 and Accuracy 100.0%\n",
      "Epoch : 84 / Batch 1 : Loss : 0.020206205546855927 and Accuracy 100.0%\n",
      "Epoch : 84 / Batch 2 : Loss : 0.027534767985343933 and Accuracy 100.0%\n",
      "Epoch : 84 / Batch 3 : Loss : 0.018740521743893623 and Accuracy 100.0%\n",
      "Epoch : 85 / Batch 0 : Loss : 0.01829903945326805 and Accuracy 100.0%\n",
      "Epoch : 85 / Batch 1 : Loss : 0.0029165330342948437 and Accuracy 100.0%\n",
      "Epoch : 85 / Batch 2 : Loss : 0.029126565903425217 and Accuracy 98.0%\n",
      "Epoch : 85 / Batch 3 : Loss : 0.04580339789390564 and Accuracy 98.0%\n",
      "Epoch : 86 / Batch 0 : Loss : 0.011519827879965305 and Accuracy 100.0%\n",
      "Epoch : 86 / Batch 1 : Loss : 0.00968434289097786 and Accuracy 100.0%\n",
      "Epoch : 86 / Batch 2 : Loss : 0.018481137230992317 and Accuracy 100.0%\n",
      "Epoch : 86 / Batch 3 : Loss : 0.10309641808271408 and Accuracy 94.0%\n",
      "Epoch : 87 / Batch 0 : Loss : 0.007285496219992638 and Accuracy 100.0%\n",
      "Epoch : 87 / Batch 1 : Loss : 0.2531966269016266 and Accuracy 94.0%\n",
      "Epoch : 87 / Batch 2 : Loss : 0.13861379027366638 and Accuracy 96.0%\n",
      "Epoch : 87 / Batch 3 : Loss : 0.025378607213497162 and Accuracy 98.0%\n",
      "Epoch : 88 / Batch 0 : Loss : 0.0015271907905116677 and Accuracy 100.0%\n",
      "Epoch : 88 / Batch 1 : Loss : 0.02365010231733322 and Accuracy 100.0%\n",
      "Epoch : 88 / Batch 2 : Loss : 0.035377729684114456 and Accuracy 98.0%\n",
      "Epoch : 88 / Batch 3 : Loss : 0.05627023056149483 and Accuracy 96.0%\n",
      "Epoch : 89 / Batch 0 : Loss : 0.00859387218952179 and Accuracy 100.0%\n",
      "Epoch : 89 / Batch 1 : Loss : 0.008690658956766129 and Accuracy 100.0%\n"
     ]
    },
    {
     "name": "stdout",
     "output_type": "stream",
     "text": [
      "Epoch : 89 / Batch 2 : Loss : 0.0334029495716095 and Accuracy 100.0%\n",
      "Epoch : 89 / Batch 3 : Loss : 0.031197596341371536 and Accuracy 100.0%\n",
      "Epoch : 90 / Batch 0 : Loss : 0.010385798290371895 and Accuracy 100.0%\n",
      "Epoch : 90 / Batch 1 : Loss : 0.014985425397753716 and Accuracy 100.0%\n",
      "Epoch : 90 / Batch 2 : Loss : 0.10084781050682068 and Accuracy 94.0%\n",
      "Epoch : 90 / Batch 3 : Loss : 0.029816539958119392 and Accuracy 98.0%\n",
      "Epoch : 91 / Batch 0 : Loss : 0.04096484184265137 and Accuracy 98.0%\n",
      "Epoch : 91 / Batch 1 : Loss : 0.044017259031534195 and Accuracy 98.0%\n",
      "Epoch : 91 / Batch 2 : Loss : 0.008209840394556522 and Accuracy 100.0%\n",
      "Epoch : 91 / Batch 3 : Loss : 0.007058426272124052 and Accuracy 100.0%\n",
      "Epoch : 92 / Batch 0 : Loss : 0.04461418464779854 and Accuracy 98.0%\n",
      "Epoch : 92 / Batch 1 : Loss : 0.002366795437410474 and Accuracy 100.0%\n",
      "Epoch : 92 / Batch 2 : Loss : 0.10618069022893906 and Accuracy 94.0%\n",
      "Epoch : 92 / Batch 3 : Loss : 0.017850005999207497 and Accuracy 98.0%\n",
      "Epoch : 93 / Batch 0 : Loss : 0.01908583752810955 and Accuracy 98.0%\n",
      "Epoch : 93 / Batch 1 : Loss : 0.016453025862574577 and Accuracy 100.0%\n",
      "Epoch : 93 / Batch 2 : Loss : 0.11142454296350479 and Accuracy 92.0%\n",
      "Epoch : 93 / Batch 3 : Loss : 0.011618235148489475 and Accuracy 100.0%\n",
      "Epoch : 94 / Batch 0 : Loss : 0.04037066921591759 and Accuracy 98.0%\n",
      "Epoch : 94 / Batch 1 : Loss : 0.04979603737592697 and Accuracy 98.0%\n",
      "Epoch : 94 / Batch 2 : Loss : 0.05202062427997589 and Accuracy 98.0%\n",
      "Epoch : 94 / Batch 3 : Loss : 0.17153097689151764 and Accuracy 94.0%\n",
      "Epoch : 95 / Batch 0 : Loss : 0.036397386342287064 and Accuracy 96.0%\n",
      "Epoch : 95 / Batch 1 : Loss : 0.043877460062503815 and Accuracy 96.0%\n",
      "Epoch : 95 / Batch 2 : Loss : 0.037773314863443375 and Accuracy 98.0%\n",
      "Epoch : 95 / Batch 3 : Loss : 0.04203048720955849 and Accuracy 98.0%\n",
      "Epoch : 96 / Batch 0 : Loss : 0.10351265221834183 and Accuracy 94.0%\n",
      "Epoch : 96 / Batch 1 : Loss : 0.05197194963693619 and Accuracy 96.0%\n",
      "Epoch : 96 / Batch 2 : Loss : 0.02716664783656597 and Accuracy 100.0%\n",
      "Epoch : 96 / Batch 3 : Loss : 0.025628257542848587 and Accuracy 100.0%\n",
      "Epoch : 97 / Batch 0 : Loss : 0.04305754229426384 and Accuracy 98.0%\n",
      "Epoch : 97 / Batch 1 : Loss : 0.05230332911014557 and Accuracy 96.0%\n",
      "Epoch : 97 / Batch 2 : Loss : 0.05759437009692192 and Accuracy 98.0%\n",
      "Epoch : 97 / Batch 3 : Loss : 0.04476342722773552 and Accuracy 98.0%\n",
      "Epoch : 98 / Batch 0 : Loss : 0.02221549302339554 and Accuracy 98.0%\n",
      "Epoch : 98 / Batch 1 : Loss : 0.028850488364696503 and Accuracy 100.0%\n",
      "Epoch : 98 / Batch 2 : Loss : 0.024949513375759125 and Accuracy 98.0%\n",
      "Epoch : 98 / Batch 3 : Loss : 0.027969123795628548 and Accuracy 100.0%\n",
      "Epoch : 99 / Batch 0 : Loss : 0.030355999246239662 and Accuracy 100.0%\n",
      "Epoch : 99 / Batch 1 : Loss : 0.052551187574863434 and Accuracy 96.0%\n",
      "Epoch : 99 / Batch 2 : Loss : 0.041522037237882614 and Accuracy 98.0%\n",
      "Epoch : 99 / Batch 3 : Loss : 0.01798853650689125 and Accuracy 100.0%\n"
     ]
    }
   ],
   "source": [
    "for i in range(epoch): \n",
    "    for idx, (img, label) in enumerate(train_loader):\n",
    "        output = model(img)\n",
    "        #Checking the loss of the model.\n",
    "        loss = criterion(output, label)\n",
    "        #setting the gradients to zero \n",
    "        optimizer.zero_grad()\n",
    "        #backward propagation to recalculate the gradients.\n",
    "        loss.backward()\n",
    "        #updating the weights of the model.\n",
    "        optimizer.step()\n",
    "        #accuracy of the model \n",
    "        acc = accuracy(output, label)\n",
    "        errors.append(loss)\n",
    "        \n",
    "        print(f'Epoch : {i} / Batch {idx} : Loss : {loss} and Accuracy {acc*100}%')"
   ]
  },
  {
   "cell_type": "code",
   "execution_count": 27,
   "metadata": {},
   "outputs": [
    {
     "data": {
      "image/png": "[encoded data removed]",
      "text/plain": [
       "<Figure size 432x288 with 1 Axes>"
      ]
     },
     "metadata": {
      "needs_background": "light"
     },
     "output_type": "display_data"
    }
   ],
   "source": [
    "#There are 4 batches and 100 epochs \n",
    "total_batches = [ i for i in range(400)]\n",
    "\n",
    "plt.plot(total_batches, errors, color='red')\n",
    "plt.show()"
   ]
  },
  {
   "cell_type": "markdown",
   "metadata": {},
   "source": [
    "Testing the models "
   ]
  },
  {
   "cell_type": "code",
   "execution_count": 104,
   "metadata": {},
   "outputs": [
    {
     "name": "stdout",
     "output_type": "stream",
     "text": [
      "Counter =>  49\n",
      "The test accuracy of the model is 96.0%\n"
     ]
    }
   ],
   "source": [
    "total = 0\n",
    "indie_acc = dict(zip(literal_label, [0 for i in range(10)]))\n",
    "sample = 0\n",
    "with torch.no_grad():\n",
    "    counter = 0\n",
    "    for x,y in test_loader:\n",
    "        outputs = model(x)\n",
    "        counter = counter + 1\n",
    "        _, preds = torch.max(outputs, dim=1)\n",
    "        new_total = torch.sum(torch.eq(preds, y)).item()\n",
    "        #Checking for the accuracy for each color.\n",
    "        for pred, label in zip(preds, y):\n",
    "            if (pred == label): \n",
    "                real_label = literal_label[pred]\n",
    "                indie_acc[real_label] = indie_acc[real_label] + 1 \n",
    "                counter = counter + 1\n",
    "#               print(counter)\n",
    "            \n",
    "        print(f'Counter =>  {counter}')\n",
    "        total = total + new_total\n",
    "        sample = sample + len(y)\n",
    "        acc = (total / sample)  * 100\n",
    "        print(f'The test accuracy of the model is {acc}%')"
   ]
  },
  {
   "cell_type": "code",
   "execution_count": 105,
   "metadata": {},
   "outputs": [
    {
     "data": {
      "text/plain": [
       "{'black': 5,\n",
       " 'blue': 5,\n",
       " 'brown': 4,\n",
       " 'green': 5,\n",
       " 'grey': 5,\n",
       " 'orange': 5,\n",
       " 'red': 5,\n",
       " 'violet': 5,\n",
       " 'white': 5,\n",
       " 'yellow': 4}"
      ]
     },
     "execution_count": 105,
     "metadata": {},
     "output_type": "execute_result"
    }
   ],
   "source": [
    "indie_acc"
   ]
  },
  {
   "cell_type": "markdown",
   "metadata": {},
   "source": [
    "From the above Only brown and yellow was incorrectly classified as once\n",
    "\n",
    "And the accuracy of the model is 96.0%"
   ]
  },
  {
   "cell_type": "code",
   "execution_count": null,
   "metadata": {},
   "outputs": [],
   "source": []
  }
 ],
 "metadata": {
  "kernelspec": {
   "display_name": "Python 3",
   "language": "python",
   "name": "python3"
  },
  "language_info": {
   "codemirror_mode": {
    "name": "ipython",
    "version": 3
   },
   "file_extension": ".py",
   "mimetype": "text/x-python",
   "name": "python",
   "nbconvert_exporter": "python",
   "pygments_lexer": "ipython3",
   "version": "3.7.6"
  }
 },
 "nbformat": 4,
 "nbformat_minor": 4
}
